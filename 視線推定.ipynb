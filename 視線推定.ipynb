{
 "cells": [
  {
   "cell_type": "code",
   "execution_count": 3,
   "id": "88098006-a527-4bc9-bf65-5106a69a9940",
   "metadata": {},
   "outputs": [],
   "source": [
    "from l2cs import Pipeline, render\n",
    "import cv2\n",
    "import torch\n",
    "\n",
    "gaze_pipeline = Pipeline(\n",
    "    weights='det/L2CSNet_gaze360.pkl',\n",
    "    arch='ResNet50',\n",
    "    device=torch.device('cpu') # or 'gpu'\n",
    ")\n",
    " \n",
    "cap = cv2.VideoCapture(0)\n",
    "\n",
    "with torch.no_grad():\n",
    "    while True:\n",
    "        ret, frame = cap.read()\n",
    "        if not ret:\n",
    "            print(\"フレームの取得に失敗しました\")\n",
    "            break\n",
    "    \n",
    "        # フレームを処理して可視化\n",
    "        results = gaze_pipeline.step(frame)\n",
    "        frame = render(frame, results)\n",
    "    \n",
    "        # 画像を表示\n",
    "        cv2.imshow('Gaze Estimation', frame)\n",
    "    \n",
    "        # 'q'キーが押されたらループを終了\n",
    "        if cv2.waitKey(1) & 0xFF == ord('q'):\n",
    "            break\n",
    "\n",
    "# リソースの解放\n",
    "cap.release()\n",
    "cv2.destroyAllWindows()"
   ]
  }
 ],
 "metadata": {
  "kernelspec": {
   "display_name": "pbl_gopro",
   "language": "python",
   "name": "python3"
  },
  "language_info": {
   "codemirror_mode": {
    "name": "ipython",
    "version": 3
   },
   "file_extension": ".py",
   "mimetype": "text/x-python",
   "name": "python",
   "nbconvert_exporter": "python",
   "pygments_lexer": "ipython3",
   "version": "3.10.18"
  }
 },
 "nbformat": 4,
 "nbformat_minor": 5
}
